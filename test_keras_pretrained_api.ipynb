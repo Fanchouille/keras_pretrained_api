{
 "cells": [
  {
   "cell_type": "markdown",
   "metadata": {},
   "source": [
    "# API Calls"
   ]
  },
  {
   "cell_type": "markdown",
   "metadata": {},
   "source": [
    "## Data"
   ]
  },
  {
   "cell_type": "code",
   "execution_count": 4,
   "metadata": {
    "ExecuteTime": {
     "end_time": "2019-04-10T13:24:10.710301Z",
     "start_time": "2019-04-10T13:24:10.695333Z"
    }
   },
   "outputs": [
    {
     "data": {
      "text/plain": [
       "125"
      ]
     },
     "execution_count": 4,
     "metadata": {},
     "output_type": "execute_result"
    }
   ],
   "source": [
    "import os\n",
    "\n",
    "folder = \"/Users/fanch/Downloads/Seminaire2018\"\n",
    "\n",
    "def get_dir_contents(dirPath):\n",
    "    listFiles = []\n",
    "    listDirs = []\n",
    "    for root, dirs, files in os.walk(dirPath):\n",
    "        for f in files:\n",
    "            listFiles.append(os.path.join(root, f))\n",
    "        for d in dirs:\n",
    "            listDirs.append(os.path.join(root, d))\n",
    "    return listFiles, listDirs\n",
    "\n",
    "listFiles, _ = get_dir_contents(folder)\n",
    "listFilesAPI = [open(filename, 'rb') for filename in listFiles]\n",
    "len(listFiles)"
   ]
  },
  {
   "cell_type": "markdown",
   "metadata": {},
   "source": [
    "## One shot call"
   ]
  },
  {
   "cell_type": "code",
   "execution_count": 20,
   "metadata": {
    "ExecuteTime": {
     "end_time": "2019-04-10T14:25:17.655315Z",
     "start_time": "2019-04-10T14:25:16.832686Z"
    }
   },
   "outputs": [],
   "source": [
    "import requests\n",
    "url = \"http://127.0.0.1/get-embedding/\"\n",
    "file = {'file' : (listFiles[1], open(listFiles[1], 'rb'), \"image/jpeg\")}\n",
    "response = requests.post(url, files=file).json()"
   ]
  },
  {
   "cell_type": "code",
   "execution_count": 21,
   "metadata": {
    "ExecuteTime": {
     "end_time": "2019-04-10T14:25:21.951675Z",
     "start_time": "2019-04-10T14:25:21.947605Z"
    }
   },
   "outputs": [
    {
     "name": "stdout",
     "output_type": "stream",
     "text": [
      "/Users/fanch/Downloads/Seminaire2018/7N9A2919.jpg\n",
      "[0.0, 0.05359392985701561, 0.0, 0.03197852522134781, 0.0007716820691712201, 0.006001245696097612, 0.05950940027832985, 0.01724093407392502, 0.0026352705899626017, 0.0026091327890753746]\n"
     ]
    }
   ],
   "source": [
    "print(response[\"filename\"])\n",
    "print(response[\"embedding\"][:10])"
   ]
  },
  {
   "cell_type": "markdown",
   "metadata": {},
   "source": [
    "## One shot call with normalize = False"
   ]
  },
  {
   "cell_type": "code",
   "execution_count": 7,
   "metadata": {
    "ExecuteTime": {
     "end_time": "2019-04-10T13:24:22.836558Z",
     "start_time": "2019-04-10T13:24:22.676752Z"
    }
   },
   "outputs": [],
   "source": [
    "url = \"http://127.0.0.1/get-embedding/\"\n",
    "file = {'file' : (listFiles[1], open(listFiles[1], 'rb'), \"image/jpeg\")}\n",
    "response = requests.post(url, files=file, params = {\"normalize\":\"False\"}).json()"
   ]
  },
  {
   "cell_type": "code",
   "execution_count": 8,
   "metadata": {
    "ExecuteTime": {
     "end_time": "2019-04-10T13:24:23.367473Z",
     "start_time": "2019-04-10T13:24:23.363181Z"
    }
   },
   "outputs": [
    {
     "name": "stdout",
     "output_type": "stream",
     "text": [
      "/Users/fanch/Downloads/Seminaire2018/7N9A2919.jpg\n",
      "[0.0, 1.3261535167694092, 0.0, 0.7912917733192444, 0.019094865769147873, 0.14849765598773956, 1.4725286960601807, 0.4266178011894226, 0.06520838290452957, 0.06456161290407181]\n"
     ]
    }
   ],
   "source": [
    "print(response[\"filename\"])\n",
    "print(response[\"embedding\"][:10])"
   ]
  },
  {
   "cell_type": "markdown",
   "metadata": {},
   "source": [
    "## Loop of one shot calls"
   ]
  },
  {
   "cell_type": "code",
   "execution_count": 9,
   "metadata": {
    "ExecuteTime": {
     "end_time": "2019-04-10T13:24:48.366319Z",
     "start_time": "2019-04-10T13:24:25.450736Z"
    }
   },
   "outputs": [],
   "source": [
    "url = \"http://127.0.0.1/get-embedding/\"\n",
    "result_list = []\n",
    "for filename in listFiles:\n",
    "    file = {'file' : (filename, open(filename, 'rb'), \"image/jpeg\")} \n",
    "    response = requests.post(url, files=file).json()\n",
    "    result_list.append(response)\n",
    "    \n",
    "response = {\"embedding_list\":result_list}"
   ]
  },
  {
   "cell_type": "code",
   "execution_count": 10,
   "metadata": {
    "ExecuteTime": {
     "end_time": "2019-04-10T13:24:48.372424Z",
     "start_time": "2019-04-10T13:24:48.368800Z"
    }
   },
   "outputs": [
    {
     "name": "stdout",
     "output_type": "stream",
     "text": [
      "/Users/fanch/Downloads/Seminaire2018/7N9A2919.jpg\n",
      "[0.0, 0.05359392985701561, 0.0, 0.03197852522134781, 0.0007716820691712201, 0.006001245696097612, 0.05950940027832985, 0.01724093407392502, 0.0026352705899626017, 0.0026091327890753746]\n"
     ]
    }
   ],
   "source": [
    "print(response[\"embedding_list\"][1][\"filename\"])\n",
    "print(response[\"embedding_list\"][1][\"embedding\"][:10])"
   ]
  },
  {
   "cell_type": "markdown",
   "metadata": {
    "ExecuteTime": {
     "end_time": "2019-04-10T08:18:49.050633Z",
     "start_time": "2019-04-10T08:18:49.043079Z"
    }
   },
   "source": [
    "## Give file list"
   ]
  },
  {
   "cell_type": "code",
   "execution_count": 13,
   "metadata": {
    "ExecuteTime": {
     "end_time": "2019-04-10T13:25:17.684417Z",
     "start_time": "2019-04-10T13:25:02.828651Z"
    }
   },
   "outputs": [],
   "source": [
    "url_list = \"http://127.0.0.1/get-embedding-from-list/\"\n",
    "listFilesAPI = [(\"files\", (filename, open(filename, 'rb'))) for filename in listFiles]\n",
    "r = requests.post(url_list, files=listFilesAPI)\n",
    "response = r.json()"
   ]
  },
  {
   "cell_type": "code",
   "execution_count": 14,
   "metadata": {
    "ExecuteTime": {
     "end_time": "2019-04-10T13:25:17.690384Z",
     "start_time": "2019-04-10T13:25:17.686709Z"
    }
   },
   "outputs": [
    {
     "name": "stdout",
     "output_type": "stream",
     "text": [
      "/Users/fanch/Downloads/Seminaire2018/7N9A2919.jpg\n",
      "[0.0, 0.053593941032886505, 0.0, 0.0319785550236702, 0.0007716873078607023, 0.006001209374517202, 0.059509385377168655, 0.017240941524505615, 0.002635287120938301, 0.0026091488543897867]\n"
     ]
    }
   ],
   "source": [
    "print(response[\"embedding_list\"][1][\"filename\"])\n",
    "print(response[\"embedding_list\"][1][\"embedding\"][:10])"
   ]
  },
  {
   "cell_type": "markdown",
   "metadata": {
    "ExecuteTime": {
     "end_time": "2019-04-10T08:32:01.462314Z",
     "start_time": "2019-04-10T08:32:01.460003Z"
    }
   },
   "source": [
    "## Give file list with normalize = False"
   ]
  },
  {
   "cell_type": "code",
   "execution_count": 15,
   "metadata": {
    "ExecuteTime": {
     "end_time": "2019-04-10T13:26:11.291197Z",
     "start_time": "2019-04-10T13:25:56.567643Z"
    }
   },
   "outputs": [],
   "source": [
    "url_list = \"http://127.0.0.1/get-embedding-from-list/\"\n",
    "listFilesAPI = [(\"files\", (filename, open(filename, 'rb'))) for filename in listFiles]\n",
    "r = requests.post(url_list, files=listFilesAPI, params = {\"normalize\":\"False\"})\n",
    "response = r.json()"
   ]
  },
  {
   "cell_type": "code",
   "execution_count": 16,
   "metadata": {
    "ExecuteTime": {
     "end_time": "2019-04-10T13:26:11.297683Z",
     "start_time": "2019-04-10T13:26:11.293814Z"
    }
   },
   "outputs": [
    {
     "name": "stdout",
     "output_type": "stream",
     "text": [
      "/Users/fanch/Downloads/Seminaire2018/7N9A2919.jpg\n",
      "[0.0, 1.3261536359786987, 0.0, 0.7912923097610474, 0.01909499242901802, 0.14849673211574554, 1.472528100013733, 0.42661792039871216, 0.06520877778530121, 0.06456200033426285]\n"
     ]
    }
   ],
   "source": [
    "print(response[\"embedding_list\"][1][\"filename\"])\n",
    "print(response[\"embedding_list\"][1][\"embedding\"][:10])"
   ]
  },
  {
   "cell_type": "markdown",
   "metadata": {
    "ExecuteTime": {
     "end_time": "2019-04-10T08:19:01.059152Z",
     "start_time": "2019-04-10T08:19:01.055210Z"
    }
   },
   "source": [
    "## Try list of lists"
   ]
  },
  {
   "cell_type": "code",
   "execution_count": 19,
   "metadata": {
    "ExecuteTime": {
     "end_time": "2019-04-10T13:46:05.960636Z",
     "start_time": "2019-04-10T13:45:46.131525Z"
    }
   },
   "outputs": [],
   "source": [
    "def break_lst(lst, size):\n",
    "    if size>len(lst):\n",
    "        return lst\n",
    "    else:\n",
    "        result = []\n",
    "        num_sublists = int(len(lst)/float(size))\n",
    "        i=1\n",
    "        while i<=num_sublists+1:\n",
    "            if len(lst[(i-1)*size:min(i*size,len(lst))])>0:\n",
    "                result.append(lst[(i-1)*size:min(i*size,len(lst))])\n",
    "            i=i+1\n",
    "        return result\n",
    "\n",
    "url_list = \"http://127.0.0.1/get-embedding-from-list/\"\n",
    "# Give list of list\n",
    "listFilesAPI = [(\"files\", (filename, open(filename, 'rb'))) for filename in listFiles]\n",
    "list_of_list = break_lst(listFilesAPI,20)\n",
    "\n",
    "for lst in list_of_list:\n",
    "    r = requests.post(url_list,files=lst)\n",
    "    response = r.json()"
   ]
  },
  {
   "cell_type": "markdown",
   "metadata": {},
   "source": [
    "# Multiproc or requests"
   ]
  },
  {
   "cell_type": "code",
   "execution_count": 17,
   "metadata": {
    "ExecuteTime": {
     "end_time": "2019-04-10T13:26:47.266490Z",
     "start_time": "2019-04-10T13:26:36.947217Z"
    }
   },
   "outputs": [],
   "source": [
    "import requests\n",
    "import multiprocessing\n",
    "\n",
    "BASE_URI = \"http://127.0.0.1/get-embedding/\"\n",
    "\n",
    "def internet_resource_getter(stuff_to_get):\n",
    "    #session = requests.Session()\n",
    "    image_file_descriptor = open(stuff_to_get, 'rb')\n",
    "    files = {'file': image_file_descriptor}\n",
    "    response = requests.post(url, files=files)\n",
    "    return response.json()\n",
    "  \n",
    "pool = multiprocessing.Pool(processes=8)\n",
    "pool_outputs = pool.map(internet_resource_getter, listFiles)\n",
    "pool.close()\n",
    "pool.join()"
   ]
  },
  {
   "cell_type": "code",
   "execution_count": 18,
   "metadata": {
    "ExecuteTime": {
     "end_time": "2019-04-10T13:26:47.278590Z",
     "start_time": "2019-04-10T13:26:47.269735Z"
    }
   },
   "outputs": [
    {
     "name": "stdout",
     "output_type": "stream",
     "text": [
      "7N9A2919.jpg\n",
      "[0.0, 0.05359392985701561, 0.0, 0.03197852522134781, 0.0007716820691712201, 0.006001245696097612, 0.05950940027832985, 0.01724093407392502, 0.0026352705899626017, 0.0026091327890753746]\n"
     ]
    }
   ],
   "source": [
    "response = {\"embedding_list\" : pool_outputs}\n",
    "print(response[\"embedding_list\"][1][\"filename\"])\n",
    "print(response[\"embedding_list\"][1][\"embedding\"][:10])"
   ]
  }
 ],
 "metadata": {
  "kernelspec": {
   "display_name": "python36",
   "language": "python",
   "name": "python36"
  },
  "language_info": {
   "codemirror_mode": {
    "name": "ipython",
    "version": 3
   },
   "file_extension": ".py",
   "mimetype": "text/x-python",
   "name": "python",
   "nbconvert_exporter": "python",
   "pygments_lexer": "ipython3",
   "version": "3.6.8"
  }
 },
 "nbformat": 4,
 "nbformat_minor": 2
}
